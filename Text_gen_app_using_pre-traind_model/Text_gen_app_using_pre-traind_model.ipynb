{
 "cells": [
  {
   "cell_type": "markdown",
   "metadata": {},
   "source": [
    "This is small text gen model for my portfolio, I made this project to learn, I think this is very basic project. "
   ]
  },
  {
   "cell_type": "code",
   "execution_count": 10,
   "metadata": {},
   "outputs": [],
   "source": [
    "import torch\n",
    "from transformers import AutoTokenizer, AutoModelForCausalLM\n",
    "import textwrap"
   ]
  },
  {
   "cell_type": "code",
   "execution_count": 2,
   "metadata": {},
   "outputs": [
    {
     "data": {
      "application/vnd.jupyter.widget-view+json": {
       "model_id": "836d73fd00214af59b136b890d195bf1",
       "version_major": 2,
       "version_minor": 0
      },
      "text/plain": [
       "Loading checkpoint shards:   0%|          | 0/2 [00:00<?, ?it/s]"
      ]
     },
     "metadata": {},
     "output_type": "display_data"
    },
    {
     "name": "stderr",
     "output_type": "stream",
     "text": [
      "Some parameters are on the meta device because they were offloaded to the cpu.\n"
     ]
    }
   ],
   "source": [
    "tokenizer = AutoTokenizer.from_pretrained(\"microsoft/Phi-3-mini-4k-instruct\")\n",
    "model = AutoModelForCausalLM.from_pretrained(\"microsoft/Phi-3-mini-4k-instruct\", device_map= \"auto\", torch_dtype= torch.bfloat16)"
   ]
  },
  {
   "cell_type": "code",
   "execution_count": 3,
   "metadata": {},
   "outputs": [],
   "source": [
    "def wrap_text(text, width=90):\n",
    "\n",
    "    lines = text.split('\\n')\n",
    "\n",
    "    wrapped_lines =[textwrap.fill(line, width) for line in lines]\n",
    "\n",
    "    wrapped_text = '\\n'.join(wrapped_lines)\n",
    "\n",
    "    return wrapped_text"
   ]
  },
  {
   "cell_type": "code",
   "execution_count": 4,
   "metadata": {},
   "outputs": [],
   "source": [
    "def generate(input_text, system_prompt= \"\", max_length=512):\n",
    "    if system_prompt != \"\":\n",
    "        system_prompt = system_prompt\n",
    "    else:\n",
    "        system_prompt = \"Friendly & Helpfull Assistant\"\n",
    "    \n",
    "    messages = [\n",
    "        {\n",
    "            \"role\": \"system\",\n",
    "            \"content\": system_prompt,\n",
    "        },\n",
    "        {\n",
    "            \"role\": \"system\",\n",
    "            \"content\": system_prompt + \"\\n\\n\" + input_text\n",
    "        },\n",
    "    ]\n",
    "\n",
    "    prompt = tokenizer.apply_chat_template(messages, tokenize=False, add_generation_prompt=True)\n",
    "    inputs = tokenizer.encode(prompt, add_special_tokens=True, return_tensors=\"pt\").to(\"cuda\")\n",
    "    outputs = model.generate(input_ids = inputs.to(model.device), max_new_tokens= max_length, do_sample= True, temperature= 0.1, top_k= 50)\n",
    "\n",
    "    text = tokenizer.decode(outputs[0], skip_special_tokens=True, clean_up_tokenization_spaces=True)\n",
    "    text = text.replace(f\"user\\n: {system_prompt} \\n\\n{input_text} \\nmodel\", '', 1)\n",
    "    wrapped_text = wrap_text(text)\n",
    "    print(wrapped_text)"
   ]
  },
  {
   "cell_type": "code",
   "execution_count": null,
   "metadata": {},
   "outputs": [
    {
     "name": "stdout",
     "output_type": "stream",
     "text": [
      "You are Phi, a large language model trained by microsoft write your reasoning step-by-step\n",
      "You are Phi, a large language model trained by microsoft write your reasoning step-by-step\n",
      "\n",
      "can you recommend best place to visit in norh india which has beautiful mountains As Phi,\n",
      "I will provide a step-by-step reasoning process to recommend the best place to visit in\n",
      "North India with beautiful mountains.\n",
      "\n",
      "Step 1: Identify the region in North India known for its mountains\n",
      "North India is home to several mountain ranges, but the most prominent one is the\n",
      "Himalayas. The Himalayas stretch across several states in North India, including Jammu &\n",
      "Kashmir, Himachal Pradesh, Uttarakhand, and Sikkim.\n",
      "\n",
      "Step 2: Evaluate the popular mountain destinations in North India\n",
      "Among the Himalayan states, some of the most popular mountain destinations in North India\n",
      "are:\n",
      "\n",
      "1. Manali and Rohtang Pass (Himachal Pradesh)\n",
      "2. Shimla (Himachal Pradesh)\n",
      "3. Nainital (Uttarakhand)\n",
      "4. Mussoorie (Uttarakhand)\n",
      "5. Dharamshala (Himachal Pradesh)\n",
      "6. Gangotri (Uttarakhand)\n",
      "7. Rishikesh (Uttarakhand)\n",
      "8. Sikkim\n",
      "\n",
      "Step 3: Consider factors such as accessibility, tourist facilities, and natural beauty\n",
      "To recommend the best place to visit, we need to consider factors like accessibility,\n",
      "tourist facilities, and natural beauty.\n",
      "\n",
      "1. Manali and Rohtang Pass: Manali is a well-connected town with good tourist facilities,\n",
      "and Rohtang Pass offers breathtaking views of the Himalayas. However, the weather can be\n",
      "unpredictable, and the roads can be challenging during winter.\n",
      "\n",
      "2. Shimla: Shimla is a popular hill station with a rich history, well-developed tourist\n",
      "facilities, and beautiful mountain views. It is easily accessible and offers a variety of\n",
      "attractions.\n",
      "\n",
      "3. Nainital: Nainital is a picturesque hill station with a lake surrounded by mountains.\n",
      "It has good tourist facilities and is easily accessible.\n",
      "\n",
      "4. Mussoorie: Mussoorie is another popular hill station with beautiful mountain views and\n",
      "well-developed tourist facilities. It is easily accessible and offers various attractions.\n",
      "\n",
      "5. Dharamshala: Dharamshala is a hill station with a rich history, beautiful mountain\n",
      "views\n"
     ]
    }
   ],
   "source": [
    "generate(\"can you recommend best place to visit in norh india which has beautiful mountains\",\n",
    "         system_prompt = \"\",\n",
    "         max_length = 512)"
   ]
  }
 ],
 "metadata": {
  "kernelspec": {
   "display_name": "Python 3",
   "language": "python",
   "name": "python3"
  },
  "language_info": {
   "codemirror_mode": {
    "name": "ipython",
    "version": 3
   },
   "file_extension": ".py",
   "mimetype": "text/x-python",
   "name": "python",
   "nbconvert_exporter": "python",
   "pygments_lexer": "ipython3",
   "version": "3.12.7"
  }
 },
 "nbformat": 4,
 "nbformat_minor": 2
}
